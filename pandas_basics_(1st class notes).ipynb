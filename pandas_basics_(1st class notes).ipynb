{
 "cells": [
  {
   "cell_type": "markdown",
   "id": "5af83b35",
   "metadata": {},
   "source": [
    "# Pandas Basics: Step by step"
   ]
  },
  {
   "cell_type": "markdown",
   "id": "c0cc3a06",
   "metadata": {},
   "source": [
    "## Setup\n",
    "Import pandas and create a small sample dataset to use throughout."
   ]
  },
  {
   "cell_type": "code",
   "execution_count": null,
   "id": "3d71764d",
   "metadata": {},
   "outputs": [],
   "source": [
    "import pandas as pd\n",
    "import numpy as np\n",
    "\n",
    "# Display options for teaching\n",
    "pd.set_option(\"display.max_rows\", 20)\n",
    "pd.set_option(\"display.width\", 100)\n",
    "\n",
    "data = {\n",
    "    \"id\": [1, 2, 3, 4, 5],\n",
    "    \"name\": [\"Aarav\", \"Ishita\", \"Kunal\", \"Meera\", \"Rohan\"],\n",
    "    \"age\": [21, 19, 23, 20, 22],\n",
    "    \"score\": [88.5, 92.0, 76.0, 85.0, np.nan],\n",
    "    \"city\": [\"Delhi\", \"Mumbai\", \"Pune\", \"Delhi\", \"Bengaluru\"]\n",
    "}\n",
    "df = pd.DataFrame(data)\n",
    "df"
   ]
  },
  {
   "cell_type": "markdown",
   "id": "94b30d65",
   "metadata": {},
   "source": [
    "## Introduction to Pandas (Series and DataFrame)\n",
    "- Series: one-dimensional labeled array.\n",
    "- DataFrame: two-dimensional labeled table."
   ]
  },
  {
   "cell_type": "code",
   "execution_count": null,
   "id": "78dccc27",
   "metadata": {},
   "outputs": [],
   "source": [
    "# Series from a list\n",
    "s = pd.Series([10, 20, 30], index=[\"x\", \"y\", \"z\"])\n",
    "print(\"Series:\")\n",
    "print(s)\n",
    "\n",
    "# DataFrame from a dict of lists\n",
    "print(\"\\nDataFrame:\")\n",
    "pd.DataFrame({\"col1\":[1,2,3], \"col2\":[\"a\",\"b\",\"c\"]})"
   ]
  },
  {
   "cell_type": "markdown",
   "id": "b0e0764d",
   "metadata": {},
   "source": [
    "## Creating DataFrames\n",
    "Create from dictionaries and lists."
   ]
  },
  {
   "cell_type": "code",
   "execution_count": null,
   "id": "d86276e2",
   "metadata": {},
   "outputs": [],
   "source": [
    "# From dictionary of equal-length lists\n",
    "df_from_dict = pd.DataFrame({\n",
    "    \"product\": [\"Pen\", \"Pencil\", \"Notebook\", \"Eraser\"],\n",
    "    \"price\": [10, 5, 80, 7],\n",
    "    \"in_stock\": [True, True, False, True]\n",
    "})\n",
    "df_from_dict"
   ]
  },
  {
   "cell_type": "code",
   "execution_count": null,
   "id": "8fb9156c",
   "metadata": {},
   "outputs": [],
   "source": [
    "# From list of dictionaries\n",
    "records = [\n",
    "    {\"day\": \"Mon\", \"sales\": 120},\n",
    "    {\"day\": \"Tue\", \"sales\": 150},\n",
    "    {\"day\": \"Wed\", \"sales\": 90}\n",
    "]\n",
    "df_from_list = pd.DataFrame(records)\n",
    "df_from_list"
   ]
  },
  {
   "cell_type": "markdown",
   "id": "98803af8",
   "metadata": {},
   "source": [
    "## Reading CSV files\n",
    "Create a CSV file, read it, and inspect it."
   ]
  },
  {
   "cell_type": "code",
   "execution_count": null,
   "id": "02ea0860",
   "metadata": {},
   "outputs": [],
   "source": [
    "# Create a sample CSV file\n",
    "csv_path = \"/mnt/data/sample_students.csv\"\n",
    "df.to_csv(csv_path, index=False)\n",
    "\n",
    "# Read the CSV\n",
    "students = pd.read_csv(csv_path)\n",
    "students.head()"
   ]
  },
  {
   "cell_type": "markdown",
   "id": "44c70c9c",
   "metadata": {},
   "source": [
    "## Excel file operations\n",
    "Write to Excel with multiple sheets and read them."
   ]
  },
  {
   "cell_type": "code",
   "execution_count": null,
   "id": "cabe7152",
   "metadata": {},
   "outputs": [],
   "source": [
    "excel_path = \"/mnt/data/sample_book.xlsx\"\n",
    "\n",
    "# Prepare two sheets\n",
    "marks = df[[\"id\",\"name\",\"score\"]].rename(columns={\"score\":\"marks\"})\n",
    "attendance = pd.DataFrame({\n",
    "    \"id\": [1,2,3,4,5],\n",
    "    \"present_days\": [45, 47, 43, 46, 40],\n",
    "    \"total_days\": [50, 50, 50, 50, 50]\n",
    "})\n",
    "\n",
    "with pd.ExcelWriter(excel_path) as writer:\n",
    "    marks.to_excel(writer, sheet_name=\"Marks\", index=False)\n",
    "    attendance.to_excel(writer, sheet_name=\"Attendance\", index=False)\n",
    "\n",
    "# Read a single sheet\n",
    "pd.read_excel(excel_path, sheet_name=\"Marks\").head()"
   ]
  },
  {
   "cell_type": "code",
   "execution_count": null,
   "id": "74649903",
   "metadata": {},
   "outputs": [],
   "source": [
    "# Read all sheets into a dict of DataFrames\n",
    "sheets = pd.read_excel(excel_path, sheet_name=None)\n",
    "list(sheets.keys()), sheets[\"Attendance\"].head()"
   ]
  },
  {
   "cell_type": "markdown",
   "id": "7f4165d5",
   "metadata": {},
   "source": [
    "## Basic DataFrame inspection\n",
    "Use head, tail, info, describe."
   ]
  },
  {
   "cell_type": "code",
   "execution_count": null,
   "id": "e45d9273",
   "metadata": {},
   "outputs": [],
   "source": [
    "students.head(3)"
   ]
  },
  {
   "cell_type": "code",
   "execution_count": null,
   "id": "480bfe6a",
   "metadata": {},
   "outputs": [],
   "source": [
    "students.tail(2)"
   ]
  },
  {
   "cell_type": "code",
   "execution_count": null,
   "id": "1a5aee5d",
   "metadata": {},
   "outputs": [],
   "source": [
    "students.info()"
   ]
  },
  {
   "cell_type": "code",
   "execution_count": null,
   "id": "bebfd177",
   "metadata": {},
   "outputs": [],
   "source": [
    "students.describe(include=\"all\")"
   ]
  },
  {
   "cell_type": "markdown",
   "id": "bd0da0b6",
   "metadata": {},
   "source": [
    "## DataFrame indexing and selection\n",
    "Use column selection, label-based loc, and position-based iloc."
   ]
  },
  {
   "cell_type": "code",
   "execution_count": null,
   "id": "79cecb7e",
   "metadata": {},
   "outputs": [],
   "source": [
    "# Column selection\n",
    "students[\"name\"].head()"
   ]
  },
  {
   "cell_type": "code",
   "execution_count": null,
   "id": "6fcbb6e7",
   "metadata": {},
   "outputs": [],
   "source": [
    "# loc: label-based\n",
    "students.loc[students[\"city\"]==\"Delhi\", [\"id\",\"name\",\"city\"]]"
   ]
  },
  {
   "cell_type": "code",
   "execution_count": null,
   "id": "e6951086",
   "metadata": {},
   "outputs": [],
   "source": [
    "# iloc: position-based\n",
    "students.iloc[0:3, 0:3]"
   ]
  },
  {
   "cell_type": "markdown",
   "id": "10e887fa",
   "metadata": {},
   "source": [
    "## Filtering and querying data\n",
    "Build boolean conditions and use query."
   ]
  },
  {
   "cell_type": "code",
   "execution_count": null,
   "id": "08e1b51d",
   "metadata": {},
   "outputs": [],
   "source": [
    "# Boolean mask\n",
    "adults = students[students[\"age\"] >= 21]\n",
    "adults"
   ]
  },
  {
   "cell_type": "code",
   "execution_count": null,
   "id": "325b8e69",
   "metadata": {},
   "outputs": [],
   "source": [
    "# Multiple conditions\n",
    "high_scorers_in_delhi = students[(students[\"score\"] >= 85) & (students[\"city\"] == \"Delhi\")]\n",
    "high_scorers_in_delhi"
   ]
  },
  {
   "cell_type": "code",
   "execution_count": null,
   "id": "40a8c419",
   "metadata": {},
   "outputs": [],
   "source": [
    "# query method\n",
    "students.query(\"age < 22 and city == 'Mumbai'\")"
   ]
  },
  {
   "cell_type": "markdown",
   "id": "55672ce2",
   "metadata": {},
   "source": [
    "## Excel data cleaning: handling merged cells and formatting issues\n",
    "Simulate merged-like data by repeating category only once and filling down after load."
   ]
  },
  {
   "cell_type": "code",
   "execution_count": null,
   "id": "341f03b8",
   "metadata": {},
   "outputs": [],
   "source": [
    "# Create a messy Excel-like DataFrame and write it\n",
    "raw = pd.DataFrame({\n",
    "    \"Category\": [\"Science\", None, None, \"Arts\", None],\n",
    "    \"Subject\": [\"Physics\", \"Chemistry\", \"Biology\", \"History\", \"Literature\"],\n",
    "    \"Marks\": [85, 78, 91, 73, 88]\n",
    "})\n",
    "messy_path = \"/mnt/data/messy.xlsx\"\n",
    "with pd.ExcelWriter(messy_path) as writer:\n",
    "    raw.to_excel(writer, index=False, sheet_name=\"Sheet1\")\n",
    "\n",
    "# Read with header inferred, then clean by forward-filling merged cells\n",
    "messy = pd.read_excel(messy_path)\n",
    "cleaned = messy.copy()\n",
    "cleaned[\"Category\"] = cleaned[\"Category\"].ffill()\n",
    "cleaned"
   ]
  },
  {
   "cell_type": "markdown",
   "id": "a0031763",
   "metadata": {},
   "source": [
    "## Data type conversions\n",
    "Use astype and to_datetime."
   ]
  },
  {
   "cell_type": "code",
   "execution_count": null,
   "id": "067962ff",
   "metadata": {},
   "outputs": [],
   "source": [
    "# Create mixed types\n",
    "types_df = pd.DataFrame({\n",
    "    \"id\": [\"1\",\"2\",\"3\"],\n",
    "    \"joined_on\": [\"2024-09-01\", \"2024/09/02\", \"01-09-2024\"],\n",
    "    \"active\": [\"True\", \"False\", \"True\"]\n",
    "})\n",
    "\n",
    "# Convert\n",
    "types_df[\"id\"] = types_df[\"id\"].astype(int)\n",
    "types_df[\"joined_on\"] = pd.to_datetime(types_df[\"joined_on\"], dayfirst=True, errors=\"coerce\")\n",
    "types_df[\"active\"] = types_df[\"active\"].map({\"True\": True, \"False\": False})\n",
    "types_df.dtypes"
   ]
  },
  {
   "cell_type": "markdown",
   "id": "c696adf5",
   "metadata": {},
   "source": [
    "## Basic data manipulation: rename, drop, fillna"
   ]
  },
  {
   "cell_type": "code",
   "execution_count": null,
   "id": "c1b27f00",
   "metadata": {},
   "outputs": [],
   "source": [
    "manip = students.copy()\n",
    "manip = manip.rename(columns={\"score\":\"marks\"})\n",
    "manip = manip.drop(columns=[\"city\"])\n",
    "manip[\"marks\"] = manip[\"marks\"].fillna(manip[\"marks\"].mean())\n",
    "manip"
   ]
  },
  {
   "cell_type": "markdown",
   "id": "0724b959",
   "metadata": {},
   "source": [
    "## Save cleaned data"
   ]
  },
  {
   "cell_type": "code",
   "execution_count": null,
   "id": "090f42a8",
   "metadata": {},
   "outputs": [],
   "source": [
    "output_csv = \"/mnt/data/cleaned_students.csv\"\n",
    "manip.to_csv(output_csv, index=False)\n",
    "output_csv"
   ]
  }
 ],
 "metadata": {},
 "nbformat": 4,
 "nbformat_minor": 5
}
