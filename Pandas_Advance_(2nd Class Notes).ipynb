{
 "cells": [
  {
   "cell_type": "markdown",
   "metadata": {},
   "source": [
    "# Pandas Class Notebook: Data Manipulation & Cleaning\n"
   ]
  },
  {
   "cell_type": "markdown",
   "metadata": {},
   "source": [
    "## 1️⃣ DataFrame Indexing and Selection"
   ]
  },
  {
   "cell_type": "code",
   "execution_count": null,
   "metadata": {},
   "outputs": [],
   "source": [
    "import pandas as pd\n",
    "\n",
    "# Sample Data\n",
    "data = {\n",
    "    'Name': ['Alice', 'Bob', 'Charlie', 'David', 'Eve'],\n",
    "    'Age': [25, 30, 35, 40, 45],\n",
    "    'City': ['Delhi', 'Mumbai', 'Bangalore', 'Hyderabad', 'Chennai']\n",
    "}\n",
    "df = pd.DataFrame(data)\n",
    "df"
   ]
  },
  {
   "cell_type": "markdown",
   "metadata": {},
   "source": [
    "### Select rows and columns"
   ]
  },
  {
   "cell_type": "code",
   "execution_count": null,
   "metadata": {},
   "outputs": [],
   "source": [
    "# Selecting column\n",
    "df['Name']\n",
    "\n",
    "# Selecting multiple columns\n",
    "df[['Name', 'City']]\n",
    "\n",
    "# Selecting rows by index position\n",
    "df.iloc[0:3]\n",
    "\n",
    "# Selecting rows by label\n",
    "df.loc[0:2, ['Name', 'Age']]"
   ]
  },
  {
   "cell_type": "markdown",
   "metadata": {},
   "source": [
    "## 2️⃣ Filtering and Querying Data"
   ]
  },
  {
   "cell_type": "code",
   "execution_count": null,
   "metadata": {},
   "outputs": [],
   "source": [
    "# Filter rows based on condition\n",
    "df[df['Age'] > 30]\n",
    "\n",
    "# Using query()\n",
    "df.query('Age < 40 and City == \"Mumbai\"')"
   ]
  },
  {
   "cell_type": "markdown",
   "metadata": {},
   "source": [
    "## 3️⃣ Excel Data Cleaning: Handling Merged Cells, Formatting Issues"
   ]
  },
  {
   "cell_type": "code",
   "execution_count": null,
   "metadata": {},
   "outputs": [],
   "source": [
    "# Simulating a dataset with merged or missing values\n",
    "dirty_data = pd.DataFrame({\n",
    "    'Name': ['Alice', None, 'Charlie', 'David', None],\n",
    "    'Age': [25, 25, 35, None, 45],\n",
    "    'City': ['Delhi', 'Delhi', None, 'Hyderabad', 'Hyderabad']\n",
    "})\n",
    "dirty_data"
   ]
  },
  {
   "cell_type": "markdown",
   "metadata": {},
   "source": [
    "### Handling merged/missing cells"
   ]
  },
  {
   "cell_type": "code",
   "execution_count": null,
   "metadata": {},
   "outputs": [],
   "source": [
    "# Forward fill to handle merged-like cells\n",
    "cleaned = dirty_data.fillna(method='ffill')\n",
    "cleaned"
   ]
  },
  {
   "cell_type": "markdown",
   "metadata": {},
   "source": [
    "## 4️⃣ Data Type Conversions"
   ]
  },
  {
   "cell_type": "code",
   "execution_count": null,
   "metadata": {},
   "outputs": [],
   "source": [
    "# Example: convert column data type\n",
    "df['Age'] = df['Age'].astype(float)\n",
    "df.dtypes"
   ]
  },
  {
   "cell_type": "markdown",
   "metadata": {},
   "source": [
    "## 5️⃣ Basic Data Manipulation (rename, drop, fillna)"
   ]
  },
  {
   "cell_type": "code",
   "execution_count": null,
   "metadata": {},
   "outputs": [],
   "source": [
    "# Rename column\n",
    "df.rename(columns={'City': 'Location'}, inplace=True)\n",
    "\n",
    "# Drop a column\n",
    "df = df.drop(columns=['Age'])\n",
    "\n",
    "# Fill missing data\n",
    "df.fillna('Unknown', inplace=True)\n",
    "df"
   ]
  },
  {
   "cell_type": "markdown",
   "metadata": {},
   "source": [
    "## 6️⃣ Advanced Data Manipulation (merge, join, concat)"
   ]
  },
  {
   "cell_type": "code",
   "execution_count": null,
   "metadata": {},
   "outputs": [],
   "source": [
    "df1 = pd.DataFrame({'ID': [1, 2, 3], 'Name': ['Alice', 'Bob', 'Charlie']})\n",
    "df2 = pd.DataFrame({'ID': [1, 2, 3], 'Score': [85, 90, 95]})\n",
    "\n",
    "# Merge on ID\n",
    "merged = pd.merge(df1, df2, on='ID')\n",
    "merged\n",
    "\n",
    "# Concat example\n",
    "concat_df = pd.concat([df1, df2], axis=0, ignore_index=True)\n",
    "concat_df"
   ]
  },
  {
   "cell_type": "markdown",
   "metadata": {},
   "source": [
    "## 7️⃣ GroupBy Operations and Aggregations"
   ]
  },
  {
   "cell_type": "code",
   "execution_count": 1,
   "metadata": {},
   "outputs": [
    {
     "ename": "NameError",
     "evalue": "name 'pd' is not defined",
     "output_type": "error",
     "traceback": [
      "\u001b[31m---------------------------------------------------------------------------\u001b[39m",
      "\u001b[31mNameError\u001b[39m                                 Traceback (most recent call last)",
      "\u001b[36mCell\u001b[39m\u001b[36m \u001b[39m\u001b[32mIn[1]\u001b[39m\u001b[32m, line 1\u001b[39m\n\u001b[32m----> \u001b[39m\u001b[32m1\u001b[39m sales = \u001b[43mpd\u001b[49m.DataFrame({\n\u001b[32m      2\u001b[39m     \u001b[33m'\u001b[39m\u001b[33mCity\u001b[39m\u001b[33m'\u001b[39m: [\u001b[33m'\u001b[39m\u001b[33mDelhi\u001b[39m\u001b[33m'\u001b[39m, \u001b[33m'\u001b[39m\u001b[33mDelhi\u001b[39m\u001b[33m'\u001b[39m, \u001b[33m'\u001b[39m\u001b[33mMumbai\u001b[39m\u001b[33m'\u001b[39m, \u001b[33m'\u001b[39m\u001b[33mMumbai\u001b[39m\u001b[33m'\u001b[39m, \u001b[33m'\u001b[39m\u001b[33mChennai\u001b[39m\u001b[33m'\u001b[39m],\n\u001b[32m      3\u001b[39m     \u001b[33m'\u001b[39m\u001b[33mSales\u001b[39m\u001b[33m'\u001b[39m: [\u001b[32m100\u001b[39m, \u001b[32m150\u001b[39m, \u001b[32m200\u001b[39m, \u001b[32m250\u001b[39m, \u001b[32m300\u001b[39m]\n\u001b[32m      4\u001b[39m })\n\u001b[32m      5\u001b[39m sales.groupby(\u001b[33m'\u001b[39m\u001b[33mCity\u001b[39m\u001b[33m'\u001b[39m)[\u001b[33m'\u001b[39m\u001b[33mSales\u001b[39m\u001b[33m'\u001b[39m].sum()\n",
      "\u001b[31mNameError\u001b[39m: name 'pd' is not defined"
     ]
    }
   ],
   "source": [
    "sales = pd.DataFrame({\n",
    "    'City': ['Delhi', 'Delhi', 'Mumbai', 'Mumbai', 'Chennai'],\n",
    "    'Sales': [100, 150, 200, 250, 300]\n",
    "})\n",
    "sales.groupby('City')['Sales'].sum()"
   ]
  },
  {
   "cell_type": "markdown",
   "metadata": {},
   "source": [
    "## 8️⃣ Pivot Tables (Excel-style operations)"
   ]
  },
  {
   "cell_type": "code",
   "execution_count": null,
   "metadata": {},
   "outputs": [],
   "source": [
    "pivot = sales.pivot_table(values='Sales', index='City', aggfunc='sum')\n",
    "pivot"
   ]
  },
  {
   "cell_type": "markdown",
   "metadata": {},
   "source": [
    "## 9️⃣ Writing Data Back to Excel Files"
   ]
  },
  {
   "cell_type": "code",
   "execution_count": null,
   "metadata": {},
   "outputs": [],
   "source": [
    "# Writing cleaned or final data to Excel\n",
    "pivot.to_excel('final_output.xlsx', index=True)\n",
    "print('Excel file saved successfully!')"
   ]
  },
  {
   "cell_type": "code",
   "execution_count": 3,
   "id": "ba8efc14",
   "metadata": {},
   "outputs": [
    {
     "name": "stdout",
     "output_type": "stream",
     "text": [
      " Excel file created successfully with two sheets!\n"
     ]
    }
   ],
   "source": [
    "import pandas as pd\n",
    "# Example DataFrames\n",
    "sales = pd.DataFrame({\n",
    "    'Product': ['Laptop', 'Mouse', 'Keyboard'],\n",
    "    'Sales': [1200, 300, 450]\n",
    "})\n",
    "\n",
    "customers = pd.DataFrame({\n",
    "    'Customer': ['Alice', 'Bob', 'Charlie'],\n",
    "    'City': ['Delhi', 'Mumbai', 'Pune']\n",
    "})\n",
    "\n",
    "# Use ExcelWriter to save both DataFrames in one file\n",
    "with pd.ExcelWriter('Company_Data.xlsx') as writer:\n",
    "    sales.to_excel(writer, sheet_name='Sales_Data', index=False)\n",
    "    customers.to_excel(writer, sheet_name='Customer_Data', index=False)\n",
    "\n",
    "print(\" Excel file created successfully with two sheets!\")\n"
   ]
  },
  {
   "cell_type": "code",
   "execution_count": null,
   "id": "ac151964",
   "metadata": {},
   "outputs": [],
   "source": []
  }
 ],
 "metadata": {
  "kernelspec": {
   "display_name": "Python 3",
   "language": "python",
   "name": "python3"
  },
  "language_info": {
   "codemirror_mode": {
    "name": "ipython",
    "version": 3
   },
   "file_extension": ".py",
   "mimetype": "text/x-python",
   "name": "python",
   "nbconvert_exporter": "python",
   "pygments_lexer": "ipython3",
   "version": "3.11.9"
  }
 },
 "nbformat": 4,
 "nbformat_minor": 5
}
